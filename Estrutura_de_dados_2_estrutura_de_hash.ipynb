{
  "nbformat": 4,
  "nbformat_minor": 0,
  "metadata": {
    "colab": {
      "provenance": [],
      "toc_visible": true,
      "authorship_tag": "ABX9TyO6feNvKYw1zL9+Nw+Kogqs",
      "include_colab_link": true
    },
    "kernelspec": {
      "name": "python3",
      "display_name": "Python 3"
    },
    "language_info": {
      "name": "python"
    }
  },
  "cells": [
    {
      "cell_type": "markdown",
      "metadata": {
        "id": "view-in-github",
        "colab_type": "text"
      },
      "source": [
        "<a href=\"https://colab.research.google.com/github/gui-iha/Estruturas-de-dados-2/blob/main/Estrutura_de_dados_2_estrutura_de_hash.ipynb\" target=\"_parent\"><img src=\"https://colab.research.google.com/assets/colab-badge.svg\" alt=\"Open In Colab\"/></a>"
      ]
    },
    {
      "cell_type": "code",
      "source": [
        "class Node:\n",
        "    def __init__(self, key, value):\n",
        "        self.key = key\n",
        "        self.value = value\n",
        "        self.next = None\n",
        "\n",
        "class Hash_table:\n",
        "\n",
        "     def __init__(self,tam):\n",
        "          self.table = [None] * tam\n",
        "          self.tam = tam\n",
        "\n",
        "     def funcaohash(self, item):\n",
        "          return len(item)\n",
        "\n",
        "     def insercao(self, item):\n",
        "          i = self.funcaohash(item)\n",
        "          if self.table[i] is None:\n",
        "            self.table[i] = Node(len(item), item)\n",
        "            print(self.table[i].value)\n",
        "            print(self.table[i].key)\n",
        "          else:\n",
        "            atual = self.table[i]\n",
        "            while atual.next is not None:\n",
        "                atual = atual.next\n",
        "            atual.next = Node(len(item), item)\n",
        "\n",
        "     def busca(self, item):\n",
        "          i = self.funcaohash(item)\n",
        "          atual = self.table[i]\n",
        "          while atual is not None:\n",
        "              if atual.key == len(item):\n",
        "                  return atual.value\n",
        "              atual = atual.next\n",
        "          return \"nao encontrado\"\n",
        "\n",
        "     def imprimi_lista(self, key):\n",
        "          atual = self.table[key]\n",
        "          while atual is not None:\n",
        "              print(atual.value)\n",
        "              atual = atual.next\n",
        "          return\n",
        "\n",
        "     def remove(self, item):\n",
        "        i = self.funcaohash(item)\n",
        "        atual = self.table[i]\n",
        "        if atual is None:\n",
        "            return \"valor nao encontrado\"\n",
        "        if atual.value == item:\n",
        "            self.table[i] = atual.next\n",
        "            return \"Removido com sucesso\"\n",
        "        while atual.next is not None:\n",
        "            if atual.next.value == item:\n",
        "                atual.next = atual.next.next\n",
        "                return \"Removido com sucesso\"\n",
        "\n",
        "tamanho_tabela = 46\n",
        "tab = Hash_table(tamanho_tabela)\n",
        "\n",
        "\n",
        "# for i in range (0,5,1):\n",
        "#      item = input(\"Digite uma informação: \")\n",
        "#      tab.insercao(item)\n",
        "tab.insercao(\"python\")\n",
        "tab.insercao(\"asdfgh\")\n",
        "tab.insercao(\"c++\")\n",
        "tab.insercao(\"java\")\n",
        "tab.insercao(\"assembly\")\n",
        "\n",
        "\n",
        "print(\"////////////////////////\")\n",
        "print(tab.busca(\"python\"))\n",
        "print(\"////////////////////////\")\n",
        "print(tab.imprimi_lista(6))\n",
        "print(\"////////////////////////\")\n",
        "\n",
        "print(tab.imprimi_lista(8))\n",
        "print(tab.remove(\"assembly\"))\n",
        "print(tab.imprimi_lista(8))\n",
        "print(\"////////////////////////\")\n"
      ],
      "metadata": {
        "colab": {
          "base_uri": "https://localhost:8080/"
        },
        "id": "zg4oUkpgZjlY",
        "outputId": "45a94210-c6ac-4b91-a1cb-b22f400239c8"
      },
      "execution_count": null,
      "outputs": [
        {
          "output_type": "stream",
          "name": "stdout",
          "text": [
            "python\n",
            "6\n",
            "c++\n",
            "3\n",
            "java\n",
            "4\n",
            "assembly\n",
            "8\n",
            "////////////////////////\n",
            "python\n",
            "////////////////////////\n",
            "python\n",
            "asdfgh\n",
            "None\n",
            "////////////////////////\n",
            "assembly\n",
            "None\n",
            "Removido com sucesso\n",
            "None\n",
            "////////////////////////\n"
          ]
        }
      ]
    },
    {
      "cell_type": "code",
      "source": [],
      "metadata": {
        "id": "v7BJujzMZh5g"
      },
      "execution_count": null,
      "outputs": []
    },
    {
      "cell_type": "code",
      "source": [],
      "metadata": {
        "id": "GSdsQeUJV6Zi"
      },
      "execution_count": null,
      "outputs": []
    }
  ]
}